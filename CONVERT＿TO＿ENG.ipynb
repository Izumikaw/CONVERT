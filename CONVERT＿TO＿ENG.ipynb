{
 "cells": [
  {
   "cell_type": "code",
   "execution_count": 11,
   "id": "23793eef",
   "metadata": {},
   "outputs": [],
   "source": [
    "import tkinter as tk\n",
    "import tkinter.ttk as ttk\n",
    "\n",
    "morses = {\"・－\": \"A\",\"－・・・\": \"B\",\"－・－・\": \"C\",\"－・・\": \"D\",\"・\": \"E\",\"・・－・\": \"F\",\n",
    "              \"－－・\": \"G\",\"・・・・\": \"H\",\"・・\": \"I\",\"・－－－\": \"J\",\"－・－\": \"K\",\"・－・・\": \"L\",\n",
    "              \"－－\": \"M\",\"－・\": \"N\",\"－－－\": \"O\",\"・－－・\": \"P\",\"－－・－\": \"Q\",\"・－・\": \"R\",\n",
    "              \"・・・\": \"S\",\"－\": \"T\",\"・・－\": \"U\",\"・・・－\": \"V\",\"・－－\": \"W\",\"－・・－\": \"X\",\"－・－－\": \"Y\",\"－－・・\": \"Z\",\n",
    "         \"・－・－・－\": \".\",\"－－・・－\": \",－\",\"・・－－・・\": \"?\",\"・－・－・\": \"+\",\"－・・・－\": \"=\",\"－・・－\": \"*\"\n",
    "}\n",
    "#変換\n",
    "def morse_to_eng(M):\n",
    "    Ms=M.replace('　',' ').split(' ')\n",
    "    ENG = [morses[s] for s in Ms if s in morses]       \n",
    "    return '    '.join(ENG)\n",
    "\n",
    "# クリックイベント\n",
    "def btn_click():\n",
    "    global lbl_2\n",
    "    M = txt_1.get()\n",
    "    Answer = morse_to_eng(M)\n",
    "    lbl_2 = tk.Label(text=\"このモールス信号は  \"+Answer+\"  です。\")\n",
    "    lbl_2.pack()\n",
    "    lbl_2.place(x=30, y=100)\n",
    "\n",
    "#テキストボックス、ラベルをクリア\n",
    "def clear():\n",
    "    txt_1.delete(0,tk.END)\n",
    "    lbl_2.destroy()\n",
    "    \n",
    "#終了ボタン\n",
    "def end():\n",
    "    tki.destroy()  \n",
    "\n",
    "tki = tk.Tk()\n",
    "tki.geometry('600x200')\n",
    "tki.title('TEXT -> MORSE')\n",
    "\n",
    "# ラベル\n",
    "lbl1_frame = ttk.Label(text='文字を入力')\n",
    "lbl1_frame.place(x=30, y=70)\n",
    "\n",
    "# テキストボックス\n",
    "txt_1 = ttk.Entry(width=60)\n",
    "txt_1.place(x=100, y=70)\n",
    "\n",
    "# 変換ボタン\n",
    "btn_1 = ttk.Button(tki, text='変換',width=10, command=btn_click)\n",
    "btn_1.place(x=70, y=170)\n",
    "\n",
    "#クリアボタン\n",
    "btn_2 = ttk.Button(text='クリア',width=10 , command = clear)\n",
    "btn_2.place(x=480, y =70)\n",
    "\n",
    "#閉じるボタン\n",
    "btn_3 = ttk.Button(text='終了', width=10, command = end)\n",
    "btn_3.place(x=500, y =170)\n",
    "\n",
    "tki.mainloop()"
   ]
  },
  {
   "cell_type": "code",
   "execution_count": null,
   "id": "61cf73a3",
   "metadata": {},
   "outputs": [],
   "source": []
  },
  {
   "cell_type": "code",
   "execution_count": null,
   "id": "91a121b0",
   "metadata": {},
   "outputs": [],
   "source": []
  }
 ],
 "metadata": {
  "kernelspec": {
   "display_name": "Python 3",
   "language": "python",
   "name": "python3"
  },
  "language_info": {
   "codemirror_mode": {
    "name": "ipython",
    "version": 3
   },
   "file_extension": ".py",
   "mimetype": "text/x-python",
   "name": "python",
   "nbconvert_exporter": "python",
   "pygments_lexer": "ipython3",
   "version": "3.8.8"
  }
 },
 "nbformat": 4,
 "nbformat_minor": 5
}
